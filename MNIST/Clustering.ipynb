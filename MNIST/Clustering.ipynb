{
 "cells": [
  {
   "cell_type": "code",
   "execution_count": 1,
   "metadata": {},
   "outputs": [],
   "source": [
    "#----- data handling -----#\n",
    "import pandas as pd\n",
    "import numpy as np\n",
    "from PIL import Image"
   ]
  },
  {
   "cell_type": "code",
   "execution_count": 2,
   "metadata": {},
   "outputs": [],
   "source": [
    "#----- clustering -----#\n",
    "from sklearn.cluster import KMeans"
   ]
  },
  {
   "cell_type": "markdown",
   "metadata": {},
   "source": [
    "### Functions definition"
   ]
  },
  {
   "cell_type": "code",
   "execution_count": 3,
   "metadata": {},
   "outputs": [],
   "source": [
    "def draw_image(array, R, C):\n",
    "    array = array.reshape((R, C));\n",
    "    img = Image.fromarray(255 - array, 'P');\n",
    "    img.show();"
   ]
  },
  {
   "cell_type": "code",
   "execution_count": 28,
   "metadata": {},
   "outputs": [],
   "source": [
    "def decode(S: bytes):\n",
    "    return int.from_bytes(S, byteorder='big');\n",
    "\n",
    "def parse_images(k: int):\n",
    "    #----- read a file -----#\n",
    "    f = open(\"./train-images-idx3-ubyte\", \"rb\");\n",
    "    assert(decode(f.read(4)) == 2051);\n",
    "    N = decode(f.read(4));\n",
    "    assert(k <= N);\n",
    "    #----- parse image data -----#\n",
    "    R = decode(f.read(4));\n",
    "    C = decode(f.read(4));\n",
    "    assert(R == 28 and C == 28);\n",
    "    images = [];\n",
    "    for j in range(k):\n",
    "        bits = [decode(f.read(1)) for i in range(R*C)];\n",
    "        img = np.array(bits, dtype=np.uint8)\n",
    "        images.append(img);\n",
    "    f.close();\n",
    "    return images, R, C;\n",
    "\n",
    "def parse_labels(k: int):\n",
    "    #----- read a file -----#\n",
    "    f = open(\"./train-labels-idx1-ubyte\", \"rb\");\n",
    "    assert(decode(f.read(4)) == 2049);\n",
    "    N = decode(f.read(4));\n",
    "    assert(k <= N);\n",
    "    #----- parse label data -----#\n",
    "    result = [decode(f.read(1)) for i in range(k)]\n",
    "    f.close();\n",
    "    return result;\n",
    "\n",
    "def parse_data(k: int):\n",
    "    #----- create a dataset -----#\n",
    "    imgs, R, C = parse_images(k);\n",
    "    labs = parse_labels(k);\n",
    "    return pd.DataFrame({'image': imgs, 'label': labs}), R, C;"
   ]
  },
  {
   "cell_type": "markdown",
   "metadata": {},
   "source": [
    "### In this code a clustering algorithm K-means is appied to recognize digits from MNIST dataset. The data is initially marked up and all image data is split into 10 classes, each representing a single digit. \n",
    "### We apply ``K-means`` with 10 classes and ``k-means++`` for cluster initialization. After that we compare resulting clusters with benchmark classes."
   ]
  },
  {
   "cell_type": "code",
   "execution_count": 29,
   "metadata": {},
   "outputs": [],
   "source": [
    "N = 10000;\n",
    "df, R, C = parse_data(N);"
   ]
  },
  {
   "cell_type": "markdown",
   "metadata": {},
   "source": [
    "### Launch K-means"
   ]
  },
  {
   "cell_type": "code",
   "execution_count": 23,
   "metadata": {},
   "outputs": [],
   "source": [
    "X = df.iloc[:, 0].values;\n",
    "X = np.stack(X);\n",
    "\n",
    "kmean_res = KMeans(\n",
    "    n_clusters=10, \n",
    "    init='k-means++'\n",
    ").fit(X);\n",
    "kmean_labs = kmean_res.labels_;\n",
    "\n",
    "real_labs = df.iloc[:, 1].values;"
   ]
  },
  {
   "cell_type": "markdown",
   "metadata": {},
   "source": [
    "### To compare the resulting clusters with the benchmark, a \"similarity\" matrix is computed. It is a matrix of 10 rows and 10 columns, containing numbers ``0 <= x <= 1``. Each row represents a benchmark class (i-th row -- digit i) and each column represents one of the obtained clusters. Each matrix cell (i, j) represents a measure of similarity of i-th bechmark class and j-th obtained cluster."
   ]
  },
  {
   "cell_type": "code",
   "execution_count": 26,
   "metadata": {},
   "outputs": [
    {
     "name": "stdout",
     "output_type": "stream",
     "text": [
      "       A      B      C      D      E      F      G      H      I      J\n",
      "0  0.097  0.001  0.000  0.037  0.002  0.946  0.008  0.045  0.019  0.002\n",
      "1  0.002  0.001  0.768  0.001  0.001  0.000  0.003  0.000  0.001  0.411\n",
      "2  0.024  0.002  0.088  0.051  0.007  0.007  0.905  0.027  0.024  0.087\n",
      "3  0.212  0.015  0.005  0.513  0.013  0.007  0.040  0.011  0.014  0.071\n",
      "4  0.000  0.225  0.033  0.000  0.239  0.000  0.007  0.016  0.399  0.034\n",
      "5  0.221  0.050  0.004  0.198  0.014  0.011  0.003  0.027  0.031  0.175\n",
      "6  0.010  0.000  0.007  0.004  0.000  0.015  0.011  0.852  0.104  0.091\n",
      "7  0.001  0.355  0.049  0.000  0.427  0.001  0.007  0.000  0.117  0.038\n",
      "8  0.433  0.029  0.037  0.183  0.024  0.005  0.016  0.018  0.028  0.068\n",
      "9  0.001  0.322  0.008  0.014  0.273  0.007  0.000  0.003  0.264  0.022\n"
     ]
    }
   ],
   "source": [
    "assert(len(kmean_labs) == len(real_labs));\n",
    "kmean_batch = [np.argwhere(kmean_labs == i).flatten() for i in range(10)];\n",
    "real_batch  = [np.argwhere(real_labs  == i).flatten() for i in range(10)];\n",
    "Kset = [set(b) for b in kmean_batch];\n",
    "Rset = [set(b) for b in real_batch];\n",
    "\n",
    "metric = [\n",
    "    [len(Rset[i].intersection(Kset[j])) / \n",
    "     len(Kset[j])\n",
    "    for j in range(10)] \n",
    "for i in range(10)];\n",
    "\n",
    "metric = pd.DataFrame(metric, columns=[c for c in 'ABCDEFGHIJ']);\n",
    "metric = metric.round(3);\n",
    "\n",
    "print(metric)"
   ]
  },
  {
   "cell_type": "markdown",
   "metadata": {},
   "source": [
    "### Filter nonmaximal row elements"
   ]
  },
  {
   "cell_type": "code",
   "execution_count": 27,
   "metadata": {},
   "outputs": [
    {
     "name": "stdout",
     "output_type": "stream",
     "text": [
      "       A      B      C      D      E      F      G      H      I    J\n",
      "0  0.000  0.000  0.000  0.000  0.000  0.946  0.000  0.000  0.000  0.0\n",
      "1  0.000  0.000  0.768  0.000  0.000  0.000  0.000  0.000  0.000  0.0\n",
      "2  0.000  0.000  0.000  0.000  0.000  0.000  0.905  0.000  0.000  0.0\n",
      "3  0.000  0.000  0.000  0.513  0.000  0.000  0.000  0.000  0.000  0.0\n",
      "4  0.000  0.000  0.000  0.000  0.000  0.000  0.000  0.000  0.399  0.0\n",
      "5  0.221  0.000  0.000  0.000  0.000  0.000  0.000  0.000  0.000  0.0\n",
      "6  0.000  0.000  0.000  0.000  0.000  0.000  0.000  0.852  0.000  0.0\n",
      "7  0.000  0.000  0.000  0.000  0.427  0.000  0.000  0.000  0.000  0.0\n",
      "8  0.433  0.000  0.000  0.000  0.000  0.000  0.000  0.000  0.000  0.0\n",
      "9  0.000  0.322  0.000  0.000  0.000  0.000  0.000  0.000  0.000  0.0\n"
     ]
    }
   ],
   "source": [
    "maximizers = metric;\n",
    "for i in range(10):\n",
    "    m = max(maximizers.iloc[i, :]);\n",
    "    for j in range(10):\n",
    "        if maximizers.iloc[i, j] != m:\n",
    "            maximizers.iloc[i, j] = 0;\n",
    "print(maximizers)"
   ]
  },
  {
   "cell_type": "markdown",
   "metadata": {},
   "source": [
    "### Ideally we would have obtained a matrix which can be diagonalized by applying columns permutations. And the diagolal elenents of the new matrix would have been close to 1. But the result is really far from the ideal case.\n",
    "\n",
    "### However it's easy to notice that the applied algotrithm has recognized digits ``0, 1, 2, 6`` pretty well."
   ]
  },
  {
   "cell_type": "code",
   "execution_count": 44,
   "metadata": {},
   "outputs": [
    {
     "name": "stdout",
     "output_type": "stream",
     "text": [
      "729\n"
     ]
    }
   ],
   "source": [
    "print(len(Kset[2].difference(Rset[2])))"
   ]
  },
  {
   "cell_type": "code",
   "execution_count": 70,
   "metadata": {},
   "outputs": [],
   "source": [
    "draw_image(df.iloc[kmean_batch[9][1], 0], R, C)"
   ]
  },
  {
   "cell_type": "code",
   "execution_count": 271,
   "metadata": {},
   "outputs": [
    {
     "name": "stdout",
     "output_type": "stream",
     "text": [
      "5949 6530 69\n"
     ]
    }
   ],
   "source": [
    "s1 = set(np.argwhere(real_labs  == fst1).flatten());\n",
    "s2 = set(np.argwhere(kmean_labs == 9).flatten());\n",
    "print(len(s1), len(s2), len(s1.intersection(s2)));"
   ]
  },
  {
   "cell_type": "code",
   "execution_count": null,
   "metadata": {},
   "outputs": [],
   "source": []
  }
 ],
 "metadata": {
  "kernelspec": {
   "display_name": "Python 3",
   "language": "python",
   "name": "python3"
  },
  "language_info": {
   "codemirror_mode": {
    "name": "ipython",
    "version": 3
   },
   "file_extension": ".py",
   "mimetype": "text/x-python",
   "name": "python",
   "nbconvert_exporter": "python",
   "pygments_lexer": "ipython3",
   "version": "3.8.5"
  }
 },
 "nbformat": 4,
 "nbformat_minor": 4
}
