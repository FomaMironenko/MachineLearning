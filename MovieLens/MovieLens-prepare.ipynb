{
 "cells": [
  {
   "cell_type": "markdown",
   "metadata": {},
   "source": [
    "### Foma Mironenko, <br>SPbU, Faculty of Mathematics and Mechanics,<br>431"
   ]
  },
  {
   "cell_type": "markdown",
   "metadata": {},
   "source": [
    "# Clustreization methods, *Part I*"
   ]
  },
  {
   "cell_type": "markdown",
   "metadata": {},
   "source": [
    "### The purpose of this work is to create a movie recomendation system. In the code below we apply different clusterization techniques to structure data from @MovieLens dataset. We give a try to three well-known algorithms: `K-means`, `DBSCAN` and `OPTICS`. As a result we obtain a set of users subdivided into groups with similar genre preferences. This allows us to build a film recommendation system."
   ]
  },
  {
   "cell_type": "markdown",
   "metadata": {},
   "source": [
    "# Part I"
   ]
  },
  {
   "cell_type": "markdown",
   "metadata": {},
   "source": [
    "### In this notebook all necessary data is pre-processed and exported into a `.csv` file for further use. In *Part II* this data is imported and clusterization is applied."
   ]
  },
  {
   "cell_type": "markdown",
   "metadata": {},
   "source": [
    "# Dataset structure"
   ]
  },
  {
   "cell_type": "markdown",
   "metadata": {},
   "source": [
    "### As a source data for clusterization we use a pre-processed MovieLens dataset. Each film in this dataset is marked with a subset of a set of 18 genres. There is also a list of user rates. Each user has rated multiple films and a rate is a number between 0 and 5."
   ]
  },
  {
   "cell_type": "code",
   "execution_count": 16,
   "metadata": {},
   "outputs": [],
   "source": [
    "#----- data handling -----#\n",
    "import pandas as pd\n",
    "import numpy as np\n",
    "from tqdm import tqdm"
   ]
  },
  {
   "cell_type": "markdown",
   "metadata": {},
   "source": [
    "# Constants definition"
   ]
  },
  {
   "cell_type": "code",
   "execution_count": 17,
   "metadata": {},
   "outputs": [],
   "source": [
    "GENRES = {\n",
    "    'action':      0,  'adventure': 1,  'animation': 2, \n",
    "    'children':    3,  'comedy':    4,  'crime':     5,\n",
    "    'documentary': 6,  'drama':     7,  'fantasy':   8,\n",
    "    'film-noir':   9,  'horror':    10, 'musical':   11, \n",
    "    'mystery':     12, 'romance':   13, 'sci-fi':    14,\n",
    "    'thriller':    15, 'war':       16, 'western':   17\n",
    "};\n",
    "\n",
    "N_GEN = len(GENRES);\n",
    "\n",
    "TAGS = 'tags';\n",
    "MOVS = 'movies';\n",
    "RATS = 'ratings';\n",
    "GEN_SCRS = 'genome-scores';\n",
    "GEN_TAGS = 'genome-tags';"
   ]
  },
  {
   "cell_type": "markdown",
   "metadata": {},
   "source": [
    "# Functions definition"
   ]
  },
  {
   "cell_type": "markdown",
   "metadata": {},
   "source": [
    "##### Get first `Nrows` rows from file:  `\"{name}.csv\"` or all file if `Nrows`  was not passed"
   ]
  },
  {
   "cell_type": "code",
   "execution_count": 18,
   "metadata": {},
   "outputs": [],
   "source": [
    "def get_dataset(name: str, Nrows: int = None):\n",
    "    if Nrows is None:\n",
    "        return pd.read_csv(f\"./ml-25m/{name}.csv\", encoding=\"utf-8\");\n",
    "    return pd.read_csv(f\"./ml-25m/{name}.csv\", nrows=Nrows, encoding=\"utf-8\");"
   ]
  },
  {
   "cell_type": "markdown",
   "metadata": {},
   "source": [
    "##### Return a vector of length: `len(GENRES)`"
   ]
  },
  {
   "cell_type": "code",
   "execution_count": 26,
   "metadata": {},
   "outputs": [],
   "source": [
    "def parse_genre(genre_str: str):\n",
    "    gens = set( genre_str.lower().split('|') );\n",
    "    gens &= GENRES.keys();\n",
    "    inds = [GENRES[genre] for genre in gens];\n",
    "    res  = np.zeros(N_GEN, dtype=int);\n",
    "    if len(inds) != 0:\n",
    "        res[np.array(inds)] = 1;\n",
    "    return res;"
   ]
  },
  {
   "cell_type": "markdown",
   "metadata": {},
   "source": [
    "# Prepare data"
   ]
  },
  {
   "cell_type": "code",
   "execution_count": 42,
   "metadata": {},
   "outputs": [],
   "source": [
    "# MOVIES\n",
    "movs_df = get_dataset(MOVS);\n",
    "movs_df.sort_values(axis=0, by='movieId', ascending=True, inplace=True);\n",
    "movs_df.set_index('movieId', inplace=True);\n",
    "# RATINGS\n",
    "rats_df = get_dataset(RATS, 1000000);"
   ]
  },
  {
   "cell_type": "code",
   "execution_count": 43,
   "metadata": {},
   "outputs": [
    {
     "data": {
      "text/html": [
       "<div>\n",
       "<style scoped>\n",
       "    .dataframe tbody tr th:only-of-type {\n",
       "        vertical-align: middle;\n",
       "    }\n",
       "\n",
       "    .dataframe tbody tr th {\n",
       "        vertical-align: top;\n",
       "    }\n",
       "\n",
       "    .dataframe thead th {\n",
       "        text-align: right;\n",
       "    }\n",
       "</style>\n",
       "<table border=\"1\" class=\"dataframe\">\n",
       "  <thead>\n",
       "    <tr style=\"text-align: right;\">\n",
       "      <th></th>\n",
       "      <th>title</th>\n",
       "      <th>genres</th>\n",
       "    </tr>\n",
       "    <tr>\n",
       "      <th>movieId</th>\n",
       "      <th></th>\n",
       "      <th></th>\n",
       "    </tr>\n",
       "  </thead>\n",
       "  <tbody>\n",
       "    <tr>\n",
       "      <th>1</th>\n",
       "      <td>Toy Story (1995)</td>\n",
       "      <td>Adventure|Animation|Children|Comedy|Fantasy</td>\n",
       "    </tr>\n",
       "  </tbody>\n",
       "</table>\n",
       "</div>"
      ],
      "text/plain": [
       "                    title                                       genres\n",
       "movieId                                                               \n",
       "1        Toy Story (1995)  Adventure|Animation|Children|Comedy|Fantasy"
      ]
     },
     "execution_count": 43,
     "metadata": {},
     "output_type": "execute_result"
    }
   ],
   "source": [
    "movs_df.head(1)"
   ]
  },
  {
   "cell_type": "code",
   "execution_count": 44,
   "metadata": {},
   "outputs": [
    {
     "data": {
      "text/html": [
       "<div>\n",
       "<style scoped>\n",
       "    .dataframe tbody tr th:only-of-type {\n",
       "        vertical-align: middle;\n",
       "    }\n",
       "\n",
       "    .dataframe tbody tr th {\n",
       "        vertical-align: top;\n",
       "    }\n",
       "\n",
       "    .dataframe thead th {\n",
       "        text-align: right;\n",
       "    }\n",
       "</style>\n",
       "<table border=\"1\" class=\"dataframe\">\n",
       "  <thead>\n",
       "    <tr style=\"text-align: right;\">\n",
       "      <th></th>\n",
       "      <th>userId</th>\n",
       "      <th>movieId</th>\n",
       "      <th>rating</th>\n",
       "      <th>timestamp</th>\n",
       "    </tr>\n",
       "  </thead>\n",
       "  <tbody>\n",
       "    <tr>\n",
       "      <th>0</th>\n",
       "      <td>1</td>\n",
       "      <td>296</td>\n",
       "      <td>5.0</td>\n",
       "      <td>1147880044</td>\n",
       "    </tr>\n",
       "  </tbody>\n",
       "</table>\n",
       "</div>"
      ],
      "text/plain": [
       "   userId  movieId  rating   timestamp\n",
       "0       1      296     5.0  1147880044"
      ]
     },
     "execution_count": 44,
     "metadata": {},
     "output_type": "execute_result"
    }
   ],
   "source": [
    "rats_df.head(1)"
   ]
  },
  {
   "cell_type": "markdown",
   "metadata": {},
   "source": [
    "## User rates data"
   ]
  },
  {
   "cell_type": "markdown",
   "metadata": {},
   "source": [
    "##### For each user we compute an average rate set for each of the genres. We choose all films with a certain genre from a set of films rated by the user and compute their average rate.\n",
    "##### ``n_genres`` -- amount of films of each genre rated by the user <br>``mean_rates`` -- average rate for each genre"
   ]
  },
  {
   "cell_type": "code",
   "execution_count": 45,
   "metadata": {
    "scrolled": true
   },
   "outputs": [
    {
     "name": "stderr",
     "output_type": "stream",
     "text": [
      "100%|██████████| 1000000/1000000 [10:55<00:00, 1524.87it/s]\n"
     ]
    }
   ],
   "source": [
    "user_marks = pd.DataFrame(columns=['uId', 'n_genres', 'mean_rates']);\n",
    "user_marks.set_index('uId', inplace=True);\n",
    "\n",
    "for i in tqdm(range(len(rats_df))):\n",
    "    rate = rats_df.iloc[i];\n",
    "    mId = rate['movieId'];\n",
    "    if mId not in movs_df.index.values:\n",
    "        continue\n",
    "    movie = movs_df.loc[mId];\n",
    "    genre_vec = parse_genre(movie['genres']);\n",
    "    weights_vec = genre_vec * rate['rating'];\n",
    "    if rate.userId in user_marks.index.values:\n",
    "        user_marks.loc[rate.userId, 'mean_rates'] += weights_vec;\n",
    "        user_marks.loc[rate.userId, 'n_genres'] += genre_vec;\n",
    "    else:\n",
    "        user_marks.loc[rate.userId] = [genre_vec, weights_vec];"
   ]
  },
  {
   "cell_type": "code",
   "execution_count": 46,
   "metadata": {},
   "outputs": [
    {
     "data": {
      "text/html": [
       "<div>\n",
       "<style scoped>\n",
       "    .dataframe tbody tr th:only-of-type {\n",
       "        vertical-align: middle;\n",
       "    }\n",
       "\n",
       "    .dataframe tbody tr th {\n",
       "        vertical-align: top;\n",
       "    }\n",
       "\n",
       "    .dataframe thead th {\n",
       "        text-align: right;\n",
       "    }\n",
       "</style>\n",
       "<table border=\"1\" class=\"dataframe\">\n",
       "  <thead>\n",
       "    <tr style=\"text-align: right;\">\n",
       "      <th></th>\n",
       "      <th>n_genres</th>\n",
       "      <th>mean_rates</th>\n",
       "    </tr>\n",
       "    <tr>\n",
       "      <th>uId</th>\n",
       "      <th></th>\n",
       "      <th></th>\n",
       "    </tr>\n",
       "  </thead>\n",
       "  <tbody>\n",
       "    <tr>\n",
       "      <th>1.0</th>\n",
       "      <td>[4, 11, 2, 3, 23, 8, 1, 53, 5, 1, 1, 5, 4, 18,...</td>\n",
       "      <td>[3.3, 3.4166666666666665, 2.6666666666666665, ...</td>\n",
       "    </tr>\n",
       "    <tr>\n",
       "      <th>2.0</th>\n",
       "      <td>[66, 75, 17, 25, 63, 18, 0, 91, 29, 0, 3, 11, ...</td>\n",
       "      <td>[3.6417910447761193, 3.8552631578947367, 3.416...</td>\n",
       "    </tr>\n",
       "    <tr>\n",
       "      <th>3.0</th>\n",
       "      <td>[334, 198, 50, 48, 176, 132, 3, 232, 78, 5, 45...</td>\n",
       "      <td>[3.629850746268657, 3.670854271356784, 3.90196...</td>\n",
       "    </tr>\n",
       "    <tr>\n",
       "      <th>4.0</th>\n",
       "      <td>[145, 114, 31, 28, 81, 37, 5, 49, 39, 0, 10, 7...</td>\n",
       "      <td>[3.164383561643836, 3.0478260869565217, 3.3593...</td>\n",
       "    </tr>\n",
       "    <tr>\n",
       "      <th>5.0</th>\n",
       "      <td>[18, 21, 4, 9, 49, 14, 0, 45, 8, 0, 3, 7, 7, 2...</td>\n",
       "      <td>[3.526315789473684, 3.6818181818181817, 3.0, 3...</td>\n",
       "    </tr>\n",
       "  </tbody>\n",
       "</table>\n",
       "</div>"
      ],
      "text/plain": [
       "                                              n_genres  \\\n",
       "uId                                                      \n",
       "1.0  [4, 11, 2, 3, 23, 8, 1, 53, 5, 1, 1, 5, 4, 18,...   \n",
       "2.0  [66, 75, 17, 25, 63, 18, 0, 91, 29, 0, 3, 11, ...   \n",
       "3.0  [334, 198, 50, 48, 176, 132, 3, 232, 78, 5, 45...   \n",
       "4.0  [145, 114, 31, 28, 81, 37, 5, 49, 39, 0, 10, 7...   \n",
       "5.0  [18, 21, 4, 9, 49, 14, 0, 45, 8, 0, 3, 7, 7, 2...   \n",
       "\n",
       "                                            mean_rates  \n",
       "uId                                                     \n",
       "1.0  [3.3, 3.4166666666666665, 2.6666666666666665, ...  \n",
       "2.0  [3.6417910447761193, 3.8552631578947367, 3.416...  \n",
       "3.0  [3.629850746268657, 3.670854271356784, 3.90196...  \n",
       "4.0  [3.164383561643836, 3.0478260869565217, 3.3593...  \n",
       "5.0  [3.526315789473684, 3.6818181818181817, 3.0, 3...  "
      ]
     },
     "execution_count": 46,
     "metadata": {},
     "output_type": "execute_result"
    }
   ],
   "source": [
    "user_marks['mean_rates'] = user_marks['mean_rates'] / (1 + user_marks['n_genres']);\n",
    "user_marks.head(5)"
   ]
  },
  {
   "cell_type": "markdown",
   "metadata": {},
   "source": [
    "##### Store pre-processing result into a csv file for further use"
   ]
  },
  {
   "cell_type": "code",
   "execution_count": 47,
   "metadata": {},
   "outputs": [],
   "source": [
    "user_marks.to_csv('rates_data.csv');"
   ]
  },
  {
   "cell_type": "markdown",
   "metadata": {},
   "source": [
    "## Film data"
   ]
  },
  {
   "cell_type": "markdown",
   "metadata": {},
   "source": [
    "##### For each film we compute a genre vector of type ``bool`` and length 18. An element of the vector is set to 1 if and only if the genre is present in film description."
   ]
  },
  {
   "cell_type": "code",
   "execution_count": 50,
   "metadata": {},
   "outputs": [
    {
     "name": "stderr",
     "output_type": "stream",
     "text": [
      "100%|██████████| 62423/62423 [03:06<00:00, 335.24it/s]\n"
     ]
    }
   ],
   "source": [
    "movie_genres = pd.DataFrame(columns=['mId', 'name', 'genre_vec']);\n",
    "movie_genres.set_index('mId', inplace=True);\n",
    "\n",
    "for mId in tqdm(range(len(movs_df))):\n",
    "    movie = movs_df.iloc[mId];\n",
    "    genre_vec = parse_genre(movie['genres']);\n",
    "    movie_genres.loc[mId] = [movie['title'], genre_vec];"
   ]
  },
  {
   "cell_type": "code",
   "execution_count": 51,
   "metadata": {},
   "outputs": [
    {
     "data": {
      "text/html": [
       "<div>\n",
       "<style scoped>\n",
       "    .dataframe tbody tr th:only-of-type {\n",
       "        vertical-align: middle;\n",
       "    }\n",
       "\n",
       "    .dataframe tbody tr th {\n",
       "        vertical-align: top;\n",
       "    }\n",
       "\n",
       "    .dataframe thead th {\n",
       "        text-align: right;\n",
       "    }\n",
       "</style>\n",
       "<table border=\"1\" class=\"dataframe\">\n",
       "  <thead>\n",
       "    <tr style=\"text-align: right;\">\n",
       "      <th></th>\n",
       "      <th>name</th>\n",
       "      <th>genre_vec</th>\n",
       "    </tr>\n",
       "    <tr>\n",
       "      <th>mId</th>\n",
       "      <th></th>\n",
       "      <th></th>\n",
       "    </tr>\n",
       "  </thead>\n",
       "  <tbody>\n",
       "    <tr>\n",
       "      <th>0</th>\n",
       "      <td>Toy Story (1995)</td>\n",
       "      <td>[0, 1, 1, 1, 1, 0, 0, 0, 1, 0, 0, 0, 0, 0, 0, ...</td>\n",
       "    </tr>\n",
       "    <tr>\n",
       "      <th>1</th>\n",
       "      <td>Jumanji (1995)</td>\n",
       "      <td>[0, 1, 0, 1, 0, 0, 0, 0, 1, 0, 0, 0, 0, 0, 0, ...</td>\n",
       "    </tr>\n",
       "    <tr>\n",
       "      <th>2</th>\n",
       "      <td>Grumpier Old Men (1995)</td>\n",
       "      <td>[0, 0, 0, 0, 1, 0, 0, 0, 0, 0, 0, 0, 0, 1, 0, ...</td>\n",
       "    </tr>\n",
       "    <tr>\n",
       "      <th>3</th>\n",
       "      <td>Waiting to Exhale (1995)</td>\n",
       "      <td>[0, 0, 0, 0, 1, 0, 0, 1, 0, 0, 0, 0, 0, 1, 0, ...</td>\n",
       "    </tr>\n",
       "    <tr>\n",
       "      <th>4</th>\n",
       "      <td>Father of the Bride Part II (1995)</td>\n",
       "      <td>[0, 0, 0, 0, 1, 0, 0, 0, 0, 0, 0, 0, 0, 0, 0, ...</td>\n",
       "    </tr>\n",
       "  </tbody>\n",
       "</table>\n",
       "</div>"
      ],
      "text/plain": [
       "                                   name  \\\n",
       "mId                                       \n",
       "0                      Toy Story (1995)   \n",
       "1                        Jumanji (1995)   \n",
       "2               Grumpier Old Men (1995)   \n",
       "3              Waiting to Exhale (1995)   \n",
       "4    Father of the Bride Part II (1995)   \n",
       "\n",
       "                                             genre_vec  \n",
       "mId                                                     \n",
       "0    [0, 1, 1, 1, 1, 0, 0, 0, 1, 0, 0, 0, 0, 0, 0, ...  \n",
       "1    [0, 1, 0, 1, 0, 0, 0, 0, 1, 0, 0, 0, 0, 0, 0, ...  \n",
       "2    [0, 0, 0, 0, 1, 0, 0, 0, 0, 0, 0, 0, 0, 1, 0, ...  \n",
       "3    [0, 0, 0, 0, 1, 0, 0, 1, 0, 0, 0, 0, 0, 1, 0, ...  \n",
       "4    [0, 0, 0, 0, 1, 0, 0, 0, 0, 0, 0, 0, 0, 0, 0, ...  "
      ]
     },
     "execution_count": 51,
     "metadata": {},
     "output_type": "execute_result"
    }
   ],
   "source": [
    "movie_genres.head(5)"
   ]
  },
  {
   "cell_type": "markdown",
   "metadata": {},
   "source": [
    "##### Store pre-processing result into a csv file for further use"
   ]
  },
  {
   "cell_type": "code",
   "execution_count": 52,
   "metadata": {},
   "outputs": [],
   "source": [
    "movie_genres.to_csv('genre_data.csv');"
   ]
  }
 ],
 "metadata": {
  "kernelspec": {
   "display_name": "Python 3",
   "language": "python",
   "name": "python3"
  },
  "language_info": {
   "codemirror_mode": {
    "name": "ipython",
    "version": 3
   },
   "file_extension": ".py",
   "mimetype": "text/x-python",
   "name": "python",
   "nbconvert_exporter": "python",
   "pygments_lexer": "ipython3",
   "version": "3.8.5"
  }
 },
 "nbformat": 4,
 "nbformat_minor": 4
}
