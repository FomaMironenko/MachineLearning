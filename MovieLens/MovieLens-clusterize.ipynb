{
 "cells": [
  {
   "cell_type": "markdown",
   "metadata": {},
   "source": [
    "### Foma Mironenko, <br>SPbU, Faculty of Mathematics and Mechanics,<br>431"
   ]
  },
  {
   "cell_type": "markdown",
   "metadata": {},
   "source": [
    "# Clustreization methods, *Part II*"
   ]
  },
  {
   "cell_type": "markdown",
   "metadata": {},
   "source": [
    "### In this paper we import the pre-processed data from *Part I* from a `.csv` and try different clusterization methods on it."
   ]
  },
  {
   "cell_type": "code",
   "execution_count": 1,
   "metadata": {},
   "outputs": [],
   "source": [
    "#----- data handling -----#\n",
    "import pandas as pd\n",
    "import numpy as np\n",
    "from tqdm import tqdm"
   ]
  },
  {
   "cell_type": "code",
   "execution_count": 2,
   "metadata": {},
   "outputs": [],
   "source": [
    "#----- clustering -----#\n",
    "from sklearn.cluster import KMeans\n",
    "from sklearn.cluster import DBSCAN\n",
    "from sklearn.cluster import OPTICS\n",
    "from sklearn.cluster import cluster_optics_dbscan"
   ]
  },
  {
   "cell_type": "markdown",
   "metadata": {},
   "source": [
    "# Cluster user data"
   ]
  },
  {
   "cell_type": "markdown",
   "metadata": {},
   "source": [
    "##### ``np array`` is stored in csv cell as a string. So, before usage it must be decoded back into an array of numbers."
   ]
  },
  {
   "cell_type": "code",
   "execution_count": 3,
   "metadata": {},
   "outputs": [
    {
     "data": {
      "text/html": [
       "<div>\n",
       "<style scoped>\n",
       "    .dataframe tbody tr th:only-of-type {\n",
       "        vertical-align: middle;\n",
       "    }\n",
       "\n",
       "    .dataframe tbody tr th {\n",
       "        vertical-align: top;\n",
       "    }\n",
       "\n",
       "    .dataframe thead th {\n",
       "        text-align: right;\n",
       "    }\n",
       "</style>\n",
       "<table border=\"1\" class=\"dataframe\">\n",
       "  <thead>\n",
       "    <tr style=\"text-align: right;\">\n",
       "      <th></th>\n",
       "      <th>uId</th>\n",
       "      <th>n_genres</th>\n",
       "      <th>mean_rates</th>\n",
       "    </tr>\n",
       "  </thead>\n",
       "  <tbody>\n",
       "    <tr>\n",
       "      <th>0</th>\n",
       "      <td>1.0</td>\n",
       "      <td>[4, 11, 2, 3, 23, 8, 1, 53, 5, 1, 1, 5, 4, 18,...</td>\n",
       "      <td>[3.3, 3.41666667, 2.66666667, 2.875, 3.7083333...</td>\n",
       "    </tr>\n",
       "    <tr>\n",
       "      <th>1</th>\n",
       "      <td>2.0</td>\n",
       "      <td>[66, 75, 17, 25, 63, 18, 0, 91, 29, 0, 3, 11, ...</td>\n",
       "      <td>[3.64179104, 3.85526316, 3.41666667, 3.5192307...</td>\n",
       "    </tr>\n",
       "    <tr>\n",
       "      <th>2</th>\n",
       "      <td>3.0</td>\n",
       "      <td>[334, 198, 50, 48, 176, 132, 3, 232, 78, 5, 45...</td>\n",
       "      <td>[3.62985075, 3.67085427, 3.90196078, 3.6326530...</td>\n",
       "    </tr>\n",
       "    <tr>\n",
       "      <th>3</th>\n",
       "      <td>4.0</td>\n",
       "      <td>[145, 114, 31, 28, 81, 37, 5, 49, 39, 0, 10, 7...</td>\n",
       "      <td>[3.16438356, 3.04782609, 3.359375, 3.10344828,...</td>\n",
       "    </tr>\n",
       "    <tr>\n",
       "      <th>4</th>\n",
       "      <td>5.0</td>\n",
       "      <td>[18, 21, 4, 9, 49, 14, 0, 45, 8, 0, 3, 7, 7, 2...</td>\n",
       "      <td>[3.52631579, 3.68181818, 3.0, 3.0, 3.5, 3.8666...</td>\n",
       "    </tr>\n",
       "  </tbody>\n",
       "</table>\n",
       "</div>"
      ],
      "text/plain": [
       "   uId                                           n_genres  \\\n",
       "0  1.0  [4, 11, 2, 3, 23, 8, 1, 53, 5, 1, 1, 5, 4, 18,...   \n",
       "1  2.0  [66, 75, 17, 25, 63, 18, 0, 91, 29, 0, 3, 11, ...   \n",
       "2  3.0  [334, 198, 50, 48, 176, 132, 3, 232, 78, 5, 45...   \n",
       "3  4.0  [145, 114, 31, 28, 81, 37, 5, 49, 39, 0, 10, 7...   \n",
       "4  5.0  [18, 21, 4, 9, 49, 14, 0, 45, 8, 0, 3, 7, 7, 2...   \n",
       "\n",
       "                                          mean_rates  \n",
       "0  [3.3, 3.41666667, 2.66666667, 2.875, 3.7083333...  \n",
       "1  [3.64179104, 3.85526316, 3.41666667, 3.5192307...  \n",
       "2  [3.62985075, 3.67085427, 3.90196078, 3.6326530...  \n",
       "3  [3.16438356, 3.04782609, 3.359375, 3.10344828,...  \n",
       "4  [3.52631579, 3.68181818, 3.0, 3.0, 3.5, 3.8666...  "
      ]
     },
     "execution_count": 3,
     "metadata": {},
     "output_type": "execute_result"
    }
   ],
   "source": [
    "user_marks = pd.read_csv('rates_data.csv');\n",
    "\n",
    "user_marks['n_genres'] = user_marks['n_genres'].apply(\n",
    "    lambda arr: np.fromstring(arr[1:-1],  sep=' ', dtype=int));\n",
    "user_marks['mean_rates'] = user_marks['mean_rates'].apply(\n",
    "    lambda arr: np.fromstring(arr[1:-1],  sep=' ', dtype=float));\n",
    "\n",
    "# user_marks['n_genres'] = user_marks['n_genres'] / (1 + user_marks['n_genres'].apply(lambda arr: np.sum(arr)));\n",
    "# user_marks['n_genres'] = 10 * user_marks['n_genres'];\n",
    "user_marks.head(5)"
   ]
  },
  {
   "cell_type": "markdown",
   "metadata": {},
   "source": [
    "##### ``genre_batch`` ---  amount of films of each genre, rated by a user<br> ``rates_batch`` --- an average rate set by the user to each genre"
   ]
  },
  {
   "cell_type": "code",
   "execution_count": 4,
   "metadata": {},
   "outputs": [],
   "source": [
    "genre_batch = user_marks['n_genres'].to_numpy();\n",
    "genre_batch = np.stack(genre_batch);\n",
    "rates_batch = user_marks['mean_rates'].to_numpy();\n",
    "rates_batch = np.stack(rates_batch);\n",
    "# batch1 = np.concatenate((genre_batch, rates_batch), axis=1);\n",
    "batch1 = genre_batch;"
   ]
  },
  {
   "cell_type": "markdown",
   "metadata": {},
   "source": [
    "### **KMeans**"
   ]
  },
  {
   "cell_type": "code",
   "execution_count": 11,
   "metadata": {},
   "outputs": [],
   "source": [
    "processor1 = KMeans(n_clusters=18, init='k-means++');\n",
    "processor1.fit(batch1);"
   ]
  },
  {
   "cell_type": "code",
   "execution_count": 12,
   "metadata": {},
   "outputs": [
    {
     "name": "stdout",
     "output_type": "stream",
     "text": [
      "[144, 553, 2, 40, 264, 9, 3364, 94, 27, 15, 7, 113, 152, 30, 24, 411, 1, 1497]\n"
     ]
    }
   ],
   "source": [
    "labels_kmeans = processor1.labels_;\n",
    "cluster_volumes = [sum(labels_kmeans == i) for i in range(max(labels_kmeans) + 1)]\n",
    "print(cluster_volumes)"
   ]
  },
  {
   "cell_type": "markdown",
   "metadata": {},
   "source": [
    "### **DBSCAN**"
   ]
  },
  {
   "cell_type": "code",
   "execution_count": 13,
   "metadata": {},
   "outputs": [],
   "source": [
    "processor2 = DBSCAN(eps=100, min_samples=2, metric='manhattan');\n",
    "processor2.fit(batch1);"
   ]
  },
  {
   "cell_type": "code",
   "execution_count": 14,
   "metadata": {},
   "outputs": [
    {
     "name": "stdout",
     "output_type": "stream",
     "text": [
      "[5523, 4, 2, 2, 4, 3, 2, 2, 2, 2, 2, 2, 3, 2, 4, 4, 2, 2, 2, 3, 2, 3, 2, 3, 2, 3, 2, 2, 2, 2, 2, 2, 2, 2, 2, 2, 2, 3, 2, 3, 2]\n"
     ]
    }
   ],
   "source": [
    "labels_dbscan = processor2.labels_;\n",
    "cluster_volumes = [sum(labels_dbscan == i) for i in range(max(labels_dbscan) + 1)]\n",
    "print(cluster_volumes)"
   ]
  },
  {
   "cell_type": "markdown",
   "metadata": {},
   "source": [
    "### **OPTICS**"
   ]
  },
  {
   "cell_type": "code",
   "execution_count": 15,
   "metadata": {},
   "outputs": [],
   "source": [
    "processor3 = OPTICS(min_samples=3, max_eps=200, metric='manhattan');\n",
    "processor3.fit(batch1);"
   ]
  },
  {
   "cell_type": "code",
   "execution_count": 16,
   "metadata": {},
   "outputs": [],
   "source": [
    "labels_optics = cluster_optics_dbscan(\n",
    "            reachability   = processor3.reachability_,\n",
    "            core_distances = processor3.core_distances_,\n",
    "            ordering       = processor3.ordering_,\n",
    "            eps            = 100\n",
    ");"
   ]
  },
  {
   "cell_type": "code",
   "execution_count": 17,
   "metadata": {},
   "outputs": [
    {
     "name": "stdout",
     "output_type": "stream",
     "text": [
      "[5523, 2, 3, 3, 3, 2, 3, 3, 3, 1, 4, 3, 2]\n"
     ]
    }
   ],
   "source": [
    "cluster_volumes = [sum(labels_optics == i) for i in range(max(labels_optics) + 1)]\n",
    "print(cluster_volumes)"
   ]
  },
  {
   "cell_type": "markdown",
   "metadata": {},
   "source": [
    "##### We see that no algorithm has outputed a satisfactory result. ``OPTICS`` and ``DBSCAN`` have recognized a single huge sluster and a few side clusters with size ``n <= 4``. ``K-means``, however, has recognized two huge clusters  ``(n = 3364, n = 1497)``, some big clusters ``(100 <= n <= 500)`` and a little of small ones ``(n < 100)``."
   ]
  },
  {
   "cell_type": "markdown",
   "metadata": {},
   "source": [
    "# Cluster films data"
   ]
  },
  {
   "cell_type": "markdown",
   "metadata": {},
   "source": [
    "##### Parse strings from csv"
   ]
  },
  {
   "cell_type": "code",
   "execution_count": 33,
   "metadata": {},
   "outputs": [
    {
     "data": {
      "text/html": [
       "<div>\n",
       "<style scoped>\n",
       "    .dataframe tbody tr th:only-of-type {\n",
       "        vertical-align: middle;\n",
       "    }\n",
       "\n",
       "    .dataframe tbody tr th {\n",
       "        vertical-align: top;\n",
       "    }\n",
       "\n",
       "    .dataframe thead th {\n",
       "        text-align: right;\n",
       "    }\n",
       "</style>\n",
       "<table border=\"1\" class=\"dataframe\">\n",
       "  <thead>\n",
       "    <tr style=\"text-align: right;\">\n",
       "      <th></th>\n",
       "      <th>mId</th>\n",
       "      <th>name</th>\n",
       "      <th>genre_vec</th>\n",
       "    </tr>\n",
       "  </thead>\n",
       "  <tbody>\n",
       "    <tr>\n",
       "      <th>0</th>\n",
       "      <td>0</td>\n",
       "      <td>Toy Story (1995)</td>\n",
       "      <td>[0, 1, 1, 1, 1, 0, 0, 0, 1, 0, 0, 0, 0, 0, 0, ...</td>\n",
       "    </tr>\n",
       "    <tr>\n",
       "      <th>1</th>\n",
       "      <td>1</td>\n",
       "      <td>Jumanji (1995)</td>\n",
       "      <td>[0, 1, 0, 1, 0, 0, 0, 0, 1, 0, 0, 0, 0, 0, 0, ...</td>\n",
       "    </tr>\n",
       "    <tr>\n",
       "      <th>2</th>\n",
       "      <td>2</td>\n",
       "      <td>Grumpier Old Men (1995)</td>\n",
       "      <td>[0, 0, 0, 0, 1, 0, 0, 0, 0, 0, 0, 0, 0, 1, 0, ...</td>\n",
       "    </tr>\n",
       "    <tr>\n",
       "      <th>3</th>\n",
       "      <td>3</td>\n",
       "      <td>Waiting to Exhale (1995)</td>\n",
       "      <td>[0, 0, 0, 0, 1, 0, 0, 1, 0, 0, 0, 0, 0, 1, 0, ...</td>\n",
       "    </tr>\n",
       "    <tr>\n",
       "      <th>4</th>\n",
       "      <td>4</td>\n",
       "      <td>Father of the Bride Part II (1995)</td>\n",
       "      <td>[0, 0, 0, 0, 1, 0, 0, 0, 0, 0, 0, 0, 0, 0, 0, ...</td>\n",
       "    </tr>\n",
       "  </tbody>\n",
       "</table>\n",
       "</div>"
      ],
      "text/plain": [
       "   mId                                name  \\\n",
       "0    0                    Toy Story (1995)   \n",
       "1    1                      Jumanji (1995)   \n",
       "2    2             Grumpier Old Men (1995)   \n",
       "3    3            Waiting to Exhale (1995)   \n",
       "4    4  Father of the Bride Part II (1995)   \n",
       "\n",
       "                                           genre_vec  \n",
       "0  [0, 1, 1, 1, 1, 0, 0, 0, 1, 0, 0, 0, 0, 0, 0, ...  \n",
       "1  [0, 1, 0, 1, 0, 0, 0, 0, 1, 0, 0, 0, 0, 0, 0, ...  \n",
       "2  [0, 0, 0, 0, 1, 0, 0, 0, 0, 0, 0, 0, 0, 1, 0, ...  \n",
       "3  [0, 0, 0, 0, 1, 0, 0, 1, 0, 0, 0, 0, 0, 1, 0, ...  \n",
       "4  [0, 0, 0, 0, 1, 0, 0, 0, 0, 0, 0, 0, 0, 0, 0, ...  "
      ]
     },
     "execution_count": 33,
     "metadata": {},
     "output_type": "execute_result"
    }
   ],
   "source": [
    "movie_genres = pd.read_csv('genre_data.csv');\n",
    "movie_genres['genre_vec'] = movie_genres['genre_vec'].apply(\n",
    "    lambda arr: np.fromstring(arr[1:-1],  sep=' ', dtype=int));\n",
    "movie_genres.head(5)"
   ]
  },
  {
   "cell_type": "code",
   "execution_count": 34,
   "metadata": {},
   "outputs": [],
   "source": [
    "batch2 = movie_genres['genre_vec'].to_numpy();\n",
    "batch2 = np.stack(np.vstack(batch2), axis=0);"
   ]
  },
  {
   "cell_type": "markdown",
   "metadata": {},
   "source": [
    "### **DBSCAN**"
   ]
  },
  {
   "cell_type": "code",
   "execution_count": 35,
   "metadata": {},
   "outputs": [],
   "source": [
    "processor2 = DBSCAN(eps=3, min_samples=100, metric='manhattan');\n",
    "processor2.fit(batch2);\n",
    "labels_dbscan = processor2.labels_;"
   ]
  },
  {
   "cell_type": "code",
   "execution_count": 37,
   "metadata": {},
   "outputs": [
    {
     "data": {
      "text/plain": [
       "[62422]"
      ]
     },
     "execution_count": 37,
     "metadata": {},
     "output_type": "execute_result"
    }
   ],
   "source": [
    "cluster_volumes = [sum(labels_dbscan == i) for i in range(max(labels_dbscan) + 1)]\n",
    "cluster_volumes"
   ]
  },
  {
   "cell_type": "code",
   "execution_count": null,
   "metadata": {},
   "outputs": [],
   "source": []
  }
 ],
 "metadata": {
  "kernelspec": {
   "display_name": "Python 3",
   "language": "python",
   "name": "python3"
  },
  "language_info": {
   "codemirror_mode": {
    "name": "ipython",
    "version": 3
   },
   "file_extension": ".py",
   "mimetype": "text/x-python",
   "name": "python",
   "nbconvert_exporter": "python",
   "pygments_lexer": "ipython3",
   "version": "3.8.5"
  }
 },
 "nbformat": 4,
 "nbformat_minor": 4
}
